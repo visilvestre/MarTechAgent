{
 "cells": [
  {
   "cell_type": "markdown",
   "id": "9b534f54",
   "metadata": {},
   "source": [
    "# Step 1: Setup prerequisites"
   ]
  },
  {
   "cell_type": "code",
   "execution_count": null,
   "id": "564b09fa",
   "metadata": {},
   "outputs": [],
   "source": [
    "import os\n",
    "from pymongo import MongoClient\n",
    "from utils import track_progress"
   ]
  },
  {
   "cell_type": "code",
   "execution_count": null,
   "id": "4fae137c",
   "metadata": {},
   "outputs": [],
   "source": [
    "# If you are using your own MongoDB Atlas cluster, use the connection string for your cluster here\n",
    "MONGODB_URI = os.environ.get(\"mongodb+srv://visilvestre_db_user:<db_password>@cluster0.ft0kvvw.mongodb.net/retryWrites=true&w=majority&appName=Cluster0\")\n",
    "\n",
    "#Initialize a MongoDB Python Client\n",
    "mongodb_client = MongoClient(MONGODB_URI)\n",
    "\n",
    "# Check the connection to the server\n",
    "mongodb_client.admin.command(\"ping\")"
   ]
  },
  {
   "cell_type": "code",
   "execution_count": null,
   "id": "1d5bab9d",
   "metadata": {},
   "outputs": [],
   "source": [
    "# Track progress of key steps-- DO NOT CHANGE\n",
    "track_progress(\"cluster_creation\", \"ai_agents_lab\")"
   ]
  },
  {
   "cell_type": "markdown",
   "id": "432dada1",
   "metadata": {},
   "source": [
    "### **Pick an LLM provider**"
   ]
  },
  {
   "cell_type": "code",
   "execution_count": null,
   "id": "6ed138df",
   "metadata": {},
   "outputs": [],
   "source": [
    "SERVERLESS_URL = os.environ.get(\"SERVERLESS_URL\")\n",
    "\n",
    "# Can be one of \"aws\", \"google\", \"microsoft\"\n",
    "LLM_PROVIDER = \"microsoft\""
   ]
  },
  {
   "cell_type": "markdown",
   "id": "c1957f94",
   "metadata": {},
   "source": [
    "# Step 2: Import data into MongoDB"
   ]
  },
  {
   "cell_type": "code",
   "execution_count": null,
   "id": "96b8f618",
   "metadata": {},
   "outputs": [],
   "source": [
    "import json"
   ]
  },
  {
   "cell_type": "code",
   "execution_count": null,
   "id": "f491946b",
   "metadata": {},
   "outputs": [],
   "source": [
    "\"\"\" DO NOT CHANGE THE VALUES ASSIGNED TO THE VARIABLES BELOW \"\"\"\n",
    "# Database name\n",
    "DB_NAME = \"mongodb_genai_devday_agents\"\n",
    "\n",
    "# Name of the collection with full documents- used for summarization\n",
    "FULL_COLLECTION_NAME = \"mongodb_docs\"\n",
    "\n",
    "# Name of the collection for vector search- used for Q&A\n",
    "VS_COLLECTION_NAME = \"mongodb_docs_embeddings\"\n",
    "\n",
    "# Name of the vector search index\n",
    "VS_INDEX_NAME = \"vector_index\""
   ]
  },
  {
   "cell_type": "code",
   "execution_count": null,
   "id": "8df6204f",
   "metadata": {},
   "outputs": [],
   "source": [
    "# Connect to the \"VS_COLLECTION_NAME\" collection\n",
    "vs_collection = mongodb_client[DB_NAME][VS_COLLECTION_NAME]\n",
    "\n",
    "# Connect to the \"FULL_COLLECTION_NAME\" collection\n",
    "full_collection = mongodb_client[DB_NAME][FULL_COLLECTION_NAME]"
   ]
  },
  {
   "cell_type": "code",
   "execution_count": null,
   "id": "4607298e",
   "metadata": {},
   "outputs": [],
   "source": [
    "# Insert a dataset of MongoDB docs with embeddings into the \"VS_COLLECTION_NAME\" collection\n",
    "with open(f\"../data/{VS_COLLECTION_NAME}.json\", \"r\") as data_file:\n",
    "    json_data = data_file.read()\n",
    "    \n",
    "data = json.loads(json_data)\n",
    "\n",
    "print(f\"Deleting existing documents from the '{VS_COLLECTION_NAME}' collection...\")\n",
    "vs_collection.delete_many({})\n",
    "vs_collection.insert_many(data)\n",
    "print(f\"{vs_collection.count_documents({})} documents inserted into the '{VS_COLLECTION_NAME}' collection.\")"
   ]
  },
  {
   "cell_type": "code",
   "execution_count": null,
   "id": "e02db164",
   "metadata": {},
   "outputs": [],
   "source": [
    "# Insert a dataset of MongoDB docs with embeddings into the \"FULL_COLLECTION_NAME\" collection\n",
    "with open(f\"../data/{FULL_COLLECTION_NAME}.json\", \"r\") as data_file:\n",
    "    json_data = data_file.read()\n",
    "    \n",
    "data = json.loads(json_data)\n",
    "\n",
    "print(f\"Deleting existing documents from the '{FULL_COLLECTION_NAME}' collection...\")\n",
    "full_collection.delete_many({})\n",
    "full_collection.insert_many(data)\n",
    "print(f\"{full_collection.count_documents({})} documents inserted into the '{FULL_COLLECTION_NAME}' collection.\")"
   ]
  },
  {
   "cell_type": "markdown",
   "id": "ab3ded80",
   "metadata": {},
   "source": [
    "# Step 3: Create a vector search index"
   ]
  },
  {
   "cell_type": "code",
   "execution_count": null,
   "id": "bd101fe1",
   "metadata": {},
   "outputs": [],
   "source": [
    "from utils import create_index, check_index_ready"
   ]
  },
  {
   "cell_type": "code",
   "execution_count": null,
   "id": "60cf1d8f",
   "metadata": {},
   "outputs": [],
   "source": [
    "\"\"\" Create vector index definition specifying:\n",
    "path: Path to the embeddings\n",
    "numDimensions: Number of embedding dimensions- depends on the embedding model used\n",
    "similarity: Similarity metric. One of cosine, euclidean, dotProduct\"\"\"\n",
    "\n",
    "model = {\n",
    "    \"name\": VS_INDEX_NAME,\n",
    "    \"type\": \"vectorSearch\",\n",
    "    \"definition\": {\n",
    "        \"fields\": [\n",
    "            {\n",
    "                \"type\": \"vector\",\n",
    "                \"path\": \"embedding\",\n",
    "                \"numDimensions\": 384,\n",
    "                \"similarity\": \"cosine\",\n",
    "            }\n",
    "        ]\n",
    "    },\n",
    "}"
   ]
  },
  {
   "cell_type": "code",
   "execution_count": null,
   "id": "6473ef17",
   "metadata": {},
   "outputs": [],
   "source": []
  },
  {
   "cell_type": "code",
   "execution_count": null,
   "id": "bc236e43",
   "metadata": {},
   "outputs": [],
   "source": []
  }
 ],
 "metadata": {
  "language_info": {
   "name": "python"
  }
 },
 "nbformat": 4,
 "nbformat_minor": 5
}
